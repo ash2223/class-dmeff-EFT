{
 "cells": [
  {
   "cell_type": "code",
   "execution_count": 9,
   "metadata": {},
   "outputs": [],
   "source": [
    "import numpy as np\n",
    "import math\n",
    "from scipy.interpolate import interp1d\n",
    "\n",
    "import matplotlib\n",
    "matplotlib.use('Qt5Agg')\n",
    "import matplotlib.pyplot as plt\n",
    "\n",
    "from numpy.fft import fft, ifft , rfft, irfft , fftfreq\n",
    "from numpy import exp, log, log10, cos, sin, pi, cosh, sinh , sqrt\n",
    "from classy import Class\n",
    "from scipy.optimize import fsolve\n",
    "from scipy.special import gamma\n",
    "from scipy.special import hyp2f1\n",
    "import sys,os\n",
    "from time import time\n",
    "from scipy.integrate import quad\n",
    "import scipy.integrate as integrate\n",
    "from scipy import special\n",
    "from scipy.special import factorial"
   ]
  },
  {
   "cell_type": "code",
   "execution_count": 10,
   "metadata": {},
   "outputs": [],
   "source": [
    "#Starting CLASS\n",
    "\n",
    "z_pk = 0.61\n",
    "common_settings = {# fixed LambdaCDM parameters\n",
    "                   'A_s':2.089e-9,\n",
    "                   'n_s':0.9649,\n",
    "                   'tau_reio':0.052,\n",
    "                   'omega_b':0.02237,\n",
    "                   'h':0.6736,\n",
    "                   'YHe':0.2425,\n",
    "#                   'N_eff':3.046,\n",
    "                   'N_ur':2.0328,\n",
    "                   'N_ncdm':1,\n",
    "#                   'N_ncdm':0,\n",
    "                   'm_ncdm':0.06,\n",
    "                   # other output and precision parameters\n",
    "#                    'P_k_max_1/Mpc':100.0,\n",
    "                   'z_pk':z_pk,\n",
    "                   'output':'mTk,vTk',\n",
    "                   'lensing':'no',\n",
    "                   'P_k_max_h/Mpc': 100.}\n",
    "\n",
    "M = Class()\n",
    "M.set(common_settings)\n",
    "#compute linear LCDM only\n",
    "M.set({ 'non linear':'no',\n",
    "        'omega_cdm': 0.1193,\n",
    "        'z_max_pk': 100000\n",
    "        #'omega_dmeff': 0.,\n",
    "        #'omega_cdm':1e-15,\n",
    "        #'omega_dmeff': 0.1193,\n",
    "        #'npow_dmeff': 0,\n",
    "        #'sigma_dmeff': 1e-25,\n",
    "        #'m_dmeff': 1.0,\n",
    "        #'dmeff_target': 'hydrogen', \n",
    "        #'Vrel_dmeff': 0.\n",
    "      })\n",
    "\n",
    "M.compute()\n",
    "\n",
    "M1 = Class()\n",
    "M1.set(common_settings)\n",
    "#compute linear dmeff\n",
    "M1.set({'non linear':'no',\n",
    "        #'omega_cdm': 0.1193,\n",
    "        #'omega_dmeff': 0.,\n",
    "        'omega_cdm':1e-15,\n",
    "        'omega_dmeff': 0.1193,\n",
    "        'npow_dmeff': -4,\n",
    "        'sigma_dmeff': 1e-41,\n",
    "        'm_dmeff': 1.0,\n",
    "        'dmeff_target': 'hydrogen', \n",
    "        'Vrel_dmeff': 30.,\n",
    "        'z_max_pk': 100000\n",
    "      })\n",
    "\n",
    "M1.compute()"
   ]
  },
  {
   "cell_type": "code",
   "execution_count": 11,
   "metadata": {},
   "outputs": [],
   "source": [
    "#Extracting background and thermo\n",
    "\n",
    "bg_LCDM = M.get_background()\n",
    "th_LCDM = M.get_thermodynamics()\n",
    "\n",
    "bg_dmeff = M1.get_background()\n",
    "th_dmeff = M1.get_thermodynamics()"
   ]
  },
  {
   "cell_type": "code",
   "execution_count": 12,
   "metadata": {},
   "outputs": [
    {
     "name": "stdout",
     "output_type": "stream",
     "text": [
      "[1.00000000e+14 9.89308584e+13 9.78731474e+13 ... 2.17307062e-02\n",
      " 1.08069579e-02 0.00000000e+00]\n",
      "[2.24428578e-82 2.29305572e-82 2.39379798e-82 ... 1.17568165e-51\n",
      " 1.20811795e-51 1.24162246e-51]\n"
     ]
    }
   ],
   "source": [
    "#calculating sigma\n",
    "\n",
    "#getting masses\n",
    "m_dmeff = 1. #GeV\n",
    "kg_to_ev = 5.60958860380445e35\n",
    "c = 299792458.\n",
    "m_dm = m_dmeff * 1e9 / (kg_to_ev * (c**2)) # in kg\n",
    "m_H = 1.673575e-27 # in kg\n",
    "\n",
    "#getting temperatures\n",
    "_k_B_ = 1.3806504e-23\n",
    "zs = bg_dmeff['z']\n",
    "T_b = np.array([M1.baryon_temperature(z) for z in zs])\n",
    "T_dmeff = bg_dmeff['T_dmeff']\n",
    "print(zs)\n",
    "\n",
    "#getting velocities\n",
    "vb2 = T_b / m_H * _k_B_\n",
    "vdmeff2 = T_dmeff / m_dm * _k_B_\n",
    "vth2 = vb2 + vdmeff2 # thermal velocity squared\n",
    "vrel = bg_dmeff['Vrel_dmeff']\n",
    "vrel2 = vrel * vrel / 3\n",
    "v2 = vth2 + vrel2\n",
    "vn = v2 ** (-2)\n",
    "\n",
    "#getting sigma\n",
    "sigma = 1e-45 * vn * (c**4)\n",
    "print(sigma)"
   ]
  },
  {
   "cell_type": "code",
   "execution_count": 13,
   "metadata": {},
   "outputs": [
    {
     "name": "stdout",
     "output_type": "stream",
     "text": [
      "[2.51070269e+41 2.43103169e+41 2.35388885e+41 ... 2.67796332e-01\n",
      " 2.59298471e-01 2.51070269e-01]\n"
     ]
    }
   ],
   "source": [
    "#calculating number density\n",
    "\n",
    "#getting mass density\n",
    "rho_b = bg_dmeff['(.)rho_b']\n",
    "\n",
    "#All densities are multiplied by (8piG/3)\n",
    "#Densities are in units [Mpc^-2]\n",
    "\n",
    "G = 6.6743015e-11\n",
    "Mpc_to_m = 3.08567758128e22\n",
    "rho_b = rho_b * 3 * (c**2) / (8*math.pi*G)\n",
    "rho_b = rho_b / (Mpc_to_m**2)\n",
    "n_b = rho_b / m_H\n",
    "print(n_b)"
   ]
  },
  {
   "cell_type": "code",
   "execution_count": 14,
   "metadata": {},
   "outputs": [
    {
     "name": "stdout",
     "output_type": "stream",
     "text": [
      "[5.75143227e+17 5.81358768e+17 5.75143223e+17 ... 1.02933109e+29\n",
      " 1.03452303e+29 1.03959602e+29]\n"
     ]
    }
   ],
   "source": [
    "#calculating mean free path\n",
    "\n",
    "l = 1 / (sigma * n_b)\n",
    "l = l / Mpc_to_m\n",
    "print(l)"
   ]
  },
  {
   "cell_type": "code",
   "execution_count": null,
   "metadata": {},
   "outputs": [],
   "source": [
    "#plotting\n",
    "\n",
    "plt.plot(zs,l)\n",
    "plt.xlabel('z')\n",
    "plt.xscale('log')\n",
    "plt.ylabel('mean free path [Mpc]')\n",
    "plt.yscale('log')\n",
    "plt.show()"
   ]
  },
  {
   "cell_type": "code",
   "execution_count": null,
   "metadata": {},
   "outputs": [],
   "source": []
  },
  {
   "cell_type": "code",
   "execution_count": null,
   "metadata": {},
   "outputs": [],
   "source": []
  },
  {
   "cell_type": "code",
   "execution_count": null,
   "metadata": {},
   "outputs": [],
   "source": []
  },
  {
   "cell_type": "code",
   "execution_count": null,
   "metadata": {},
   "outputs": [],
   "source": []
  },
  {
   "cell_type": "code",
   "execution_count": null,
   "metadata": {},
   "outputs": [],
   "source": []
  }
 ],
 "metadata": {
  "kernelspec": {
   "display_name": "Python 3",
   "language": "python",
   "name": "python3"
  },
  "language_info": {
   "codemirror_mode": {
    "name": "ipython",
    "version": 3
   },
   "file_extension": ".py",
   "mimetype": "text/x-python",
   "name": "python",
   "nbconvert_exporter": "python",
   "pygments_lexer": "ipython3",
   "version": "3.8.8"
  }
 },
 "nbformat": 4,
 "nbformat_minor": 1
}
